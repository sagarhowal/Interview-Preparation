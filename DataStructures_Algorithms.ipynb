{
  "nbformat": 4,
  "nbformat_minor": 0,
  "metadata": {
    "colab": {
      "name": "DataStructures_Algorithms.ipynb",
      "provenance": [],
      "include_colab_link": true
    },
    "kernelspec": {
      "name": "python3",
      "display_name": "Python 3"
    }
  },
  "cells": [
    {
      "cell_type": "markdown",
      "metadata": {
        "id": "view-in-github",
        "colab_type": "text"
      },
      "source": [
        "<a href=\"https://colab.research.google.com/github/sagarhowal/Interview-Preparation/blob/master/DataStructures_Algorithms.ipynb\" target=\"_parent\"><img src=\"https://colab.research.google.com/assets/colab-badge.svg\" alt=\"Open In Colab\"/></a>"
      ]
    },
    {
      "cell_type": "code",
      "metadata": {
        "id": "GhY7v-Ez3_1D",
        "colab_type": "code",
        "colab": {}
      },
      "source": [
        "# This Code repositroy is for implementation and testing of various Data Structures & Algorithms\n",
        "# Along with concepts you require for your Software Engineering Interview.\n",
        "# If you stumble upon this notebook, please suggest any improvements or additions.\n",
        "# This exercise(s) is based loosely on the coding interview university GitHub repo by John Washam:\n",
        "# https://github.com/jwasham/coding-interview-university\n",
        "# \n",
        "# The goal of this notebook is to act as quick revision for all you learn for \n",
        "# your ocding interviews. \n",
        "# NOTE: Email your suggestions to __howalsagar92@gmail.com__\n",
        "\n",
        "\n",
        "# Table of Contents\n",
        "# |_ Arrays (Lists in Python obviously)\n",
        "# |     |_ Problems \n",
        "# |_ Stacks \n",
        "# |     |_ Implementation\n",
        "# |     |_ Test cases\n",
        "# |     |_ Problems\n",
        "# |_ Queues\n",
        "# |     |_ Implementation\n",
        "# |     |_ Testing \n",
        "# |     |_ Problems\n",
        "# |_ Hash Tables (Dictionaries)\n",
        "# |     |_ Implementation\n",
        "# |     |_ Testing \n",
        "# |     |_ Problems\n",
        "# |_ Binary Search\n",
        "# |_ Bitwise Operations\n",
        "# |_ Trees \n",
        "# |     |_ Overview\n",
        "# |     |_ Binary Search Trees\n",
        "# |     |       |_ Implementation\n",
        "# |     |       |_ Testing\n",
        "# |     |_ Techniques\n",
        "# |     |       |_ Heap\n",
        "# |     |       |_ Priority Queue\n",
        "# |     |       |_ Binary Heap\n",
        "# |     |_ Balanced Search Trees\n",
        "# |     |_ Tree Traversal\n",
        "# |     |       |_ Preorder, PostOrder, InOrder\n",
        "# |     |       |_ BST , DSF\n",
        "# |_ Sorting Algorithms\n",
        "# |     |_ Bubble Sort\n",
        "# |     |_ Selection Sort\n",
        "# |     |_ Insertion Sort\n",
        "# |     |_ Heap Sort\n",
        "# |     |_ QuickSort\n",
        "# |     |_ MergeSort\n",
        "# |\n",
        "# |_ Object Oriented Programming\n",
        "# |_ Dynamic Programming\n",
        "# |_ Recursion (Should Probably come before Trees since you need it there)\n",
        "# |_ Design Patterns\n",
        "# |_ ...\n",
        "# |_ \n",
        "# |_ \n",
        "# ________ More being added _______ "
      ],
      "execution_count": 0,
      "outputs": []
    }
  ]
}